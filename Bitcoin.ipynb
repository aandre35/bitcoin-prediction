{
 "cells": [
  {
   "cell_type": "markdown",
   "metadata": {
    "colab_type": "text",
    "id": "view-in-github"
   },
   "source": [
    "# Bitcoin Prediction"
   ]
  },
  {
   "cell_type": "markdown",
   "metadata": {},
   "source": [
    "In this notebook we will try to predict the price of bitcoin.\n",
    "\n",
    "To do this, we will create a recurrent neural network with LSTM layers.\n",
    "We will compare the results with those obtained using classical forecasting methods such as fbProphet."
   ]
  },
  {
   "cell_type": "code",
   "execution_count": null,
   "metadata": {
    "id": "H_7xCAXkTIKF"
   },
   "outputs": [
    {
     "name": "stderr",
     "output_type": "stream",
     "text": [
      "Using TensorFlow backend.\n"
     ]
    }
   ],
   "source": [
    "import pandas as pd\n",
    "import pandas_datareader as pdr\n",
    "import datetime\n",
    "import numpy as np\n",
    "\n",
    "#keras\n",
    "import keras\n",
    "from keras.layers import Dense, LSTM, Dropout\n",
    "from keras.models import Sequential\n",
    "from keras.preprocessing.sequence import TimeseriesGenerator\n",
    "\n",
    "#sklearn\n",
    "from sklearn.preprocessing import MinMaxScaler\n",
    "\n",
    "#display\n",
    "import seaborn as sns\n",
    "import plotly.express as px\n",
    "import plotly.graph_objects as go\n",
    "pd.options.plotting.backend = \"plotly\"\n",
    "import matplotlib.pyplot as plt\n",
    "sns.set_theme()"
   ]
  },
  {
   "cell_type": "markdown",
   "metadata": {},
   "source": [
    "We retrieve bitcoin closing prices since September 2014 using the yahoo API."
   ]
  },
  {
   "cell_type": "code",
   "execution_count": null,
   "metadata": {
    "colab": {
     "base_uri": "https://localhost:8080/",
     "height": 269
    },
    "id": "W51aP-37NGAu",
    "outputId": "736642cd-52b7-43ff-a9ce-7e79b0a0c684"
   },
   "outputs": [],
   "source": [
    "import pandas_datareader as pdr\n",
    "import datetime\n",
    "btc_data = pdr.get_data_yahoo(['BTC-USD'], \n",
    "                          start=datetime.datetime(2014, 9, 16), \n",
    "                          end=datetime.datetime(2021, 4, 2))\n",
    "btc_data.columns = btc_data.columns.droplevel(1)\n",
    "btc_data.head()"
   ]
  },
  {
   "cell_type": "code",
   "execution_count": null,
   "metadata": {
    "colab": {
     "base_uri": "https://localhost:8080/",
     "height": 588
    },
    "id": "GdRFwAYgfa2X",
    "outputId": "05c259a8-28df-4e72-9c32-3b5fe1adeaf5"
   },
   "outputs": [],
   "source": [
    "btc_data['Close'].plot()"
   ]
  },
  {
   "cell_type": "markdown",
   "metadata": {
    "id": "fEsy3SaFC7Bm"
   },
   "source": [
    "## Extract data"
   ]
  },
  {
   "cell_type": "markdown",
   "metadata": {},
   "source": [
    "We focus for now on the closing price of BTC-USD."
   ]
  },
  {
   "cell_type": "code",
   "execution_count": null,
   "metadata": {
    "id": "Io5St1DbUSXm"
   },
   "outputs": [],
   "source": [
    "# split data\n",
    "PREDICTIONS_DAYS = 700\n",
    "N_FEATURES = 1\n",
    "WINDOW_SIZE = 365\n",
    "BATCH_SIZE = 8\n",
    "\n",
    "# split data frames into train and test\n",
    "df_train = btc_data.iloc[:len(btc_data)-PREDICTIONS_DAYS]['Close']\n",
    "df_val = btc_data.iloc[len(btc_data)-PREDICTIONS_DAYS:]['Close']\n",
    "df_test = btc_data.iloc[len(btc_data)-PREDICTIONS_DAYS-WINDOW_SIZE:]\n",
    "\n",
    "# values\n",
    "train_values = df_train.values\n",
    "val_values = df_val.values\n",
    "test_values = df_test.values\n",
    "all_values = btc_data.values\n",
    "\n",
    "series_train= np.reshape(train_values, (len(train_values), N_FEATURES))\n",
    "series_val = np.reshape(val_values, (len(val_values), N_FEATURES))\n",
    "series_test = np.reshape(test_values, (len(test_values), N_FEATURES))\n",
    "series = np.reshape(all_values, (len(all_values), N_FEATURES))\n",
    "print(series_train.shape, series_val.shape, series_test.shape)\n",
    "\n",
    "sc = MinMaxScaler()\n",
    "series_train = sc.fit_transform(series_train)\n",
    "series_val = sc.transform(series_val)\n",
    "series_test = sc.transform(series_test)\n",
    "\n",
    "# define generator\n",
    "train_generator = TimeseriesGenerator(series_train, series_train, length=WINDOW_SIZE, batch_size=BATCH_SIZE)\n",
    "val_generator = TimeseriesGenerator(series_val, series_val, length=WINDOW_SIZE, batch_size=BATCH_SIZE)\n",
    "test_generator = TimeseriesGenerator(series_test, series_test, length=WINDOW_SIZE, batch_size=BATCH_SIZE)"
   ]
  },
  {
   "cell_type": "markdown",
   "metadata": {},
   "source": [
    "## Training"
   ]
  },
  {
   "cell_type": "code",
   "execution_count": null,
   "metadata": {
    "id": "n3048d2rU3VG"
   },
   "outputs": [],
   "source": [
    "def build_model():\n",
    "    # Initialising the RNN\n",
    "    model = Sequential()\n",
    "\n",
    "    # Adding the input layer and the LSTM layer\n",
    "    model.add(LSTM(units = 200, input_shape = (WINDOW_SIZE, 1), return_sequences=True))\n",
    "    \n",
    "    #Dropout to avoid overfiting\n",
    "    model.add(Dropout(0.25))\n",
    "    \n",
    "    # Adding a second LSTM layer\n",
    "    model.add(LSTM(units = 100))\n",
    "    \n",
    "    #Dropout to avoid overfiting\n",
    "    model.add(Dropout(0.25))\n",
    "    \n",
    "    # Adding the output layer\n",
    "    model.add(Dense(units = 1, activation = \"linear\"))\n",
    "\n",
    "    # Compiling the RNN\n",
    "    model.compile(optimizer = 'adam', loss = 'MSE', metrics=[\"mae\"])\n",
    "\n",
    "    # Fitting the RNN to the Training set\n",
    "    model.summary()\n",
    "\n",
    "    return model"
   ]
  },
  {
   "cell_type": "code",
   "execution_count": null,
   "metadata": {},
   "outputs": [],
   "source": [
    "model = build_model()"
   ]
  },
  {
   "cell_type": "code",
   "execution_count": null,
   "metadata": {
    "colab": {
     "base_uri": "https://localhost:8080/"
    },
    "id": "gz68zJS0EN1u",
    "outputId": "dda69412-b8c6-4272-cf35-1fbef03b594f"
   },
   "outputs": [],
   "source": [
    "history = model.fit(train_generator, validation_data = val_generator, epochs = 10)"
   ]
  },
  {
   "cell_type": "code",
   "execution_count": null,
   "metadata": {
    "id": "3uqKOop5R043"
   },
   "outputs": [],
   "source": [
    "def plot_training_analysis(history, metric='loss'):    \n",
    "\n",
    "  loss = history.history[metric]\n",
    "  val_loss = history.history['val_' + metric]\n",
    "\n",
    "  epochs = range(len(loss))\n",
    "\n",
    "  plt.plot(epochs, loss, 'b', linestyle=\"--\",label='Training ' + metric)\n",
    "  plt.plot(epochs, val_loss, 'g', label='Validation ' + metric)\n",
    "  plt.title('Training and validation ' + metric)\n",
    "  plt.legend()\n",
    "  plt.yscale(\"log\")\n",
    "  plt.show()"
   ]
  },
  {
   "cell_type": "code",
   "execution_count": null,
   "metadata": {
    "colab": {
     "base_uri": "https://localhost:8080/",
     "height": 284
    },
    "id": "vKqZvEO-R044",
    "outputId": "ed853d58-ce33-41f6-b349-e3151f7a8890"
   },
   "outputs": [],
   "source": [
    "plot_training_analysis(history)"
   ]
  },
  {
   "cell_type": "code",
   "execution_count": null,
   "metadata": {
    "id": "KTjrHS9BWa_1"
   },
   "outputs": [],
   "source": [
    "def join_df(train_datetime, train_values, test_datetime, test_values):\n",
    "    test_values = np.reshape(test_values, (len(test_values)))\n",
    "    datetime = np.append(train_datetime, test_datetime, axis=0)\n",
    "    values = np.append(train_values, test_values, axis=0)\n",
    "    label_train = ['train' for x in train_values]\n",
    "    label_test = ['test' for x in test_values]\n",
    "    label = np.append(label_train, label_test, axis=0)\n",
    "    df_pred = pd.DataFrame(data = np.transpose([datetime, label, values]), columns = [\"datetime\", \"label\", \"value\"])\n",
    "    df_pred['datetime'] = pd.to_datetime(df_pred['datetime'])\n",
    "    df_pred.set_index('datetime', inplace=True)\n",
    "    df_pred = df_pred.astype({\"value\" : \"float32\"})\n",
    "    return df_pred"
   ]
  },
  {
   "cell_type": "code",
   "execution_count": null,
   "metadata": {
    "colab": {
     "base_uri": "https://localhost:8080/",
     "height": 256
    },
    "id": "SLGSVyXVWcnU",
    "outputId": "ec1102ca-8339-4060-def3-14f93db31e9c"
   },
   "outputs": [],
   "source": [
    "y_test_pred = sc.inverse_transform(model.predict(test_generator))\n",
    "print(y_test_pred.shape)\n",
    "df_pred = join_df(df_train.index, df_train.values, df_val.index, y_test_pred)\n",
    "df_pred.head()"
   ]
  },
  {
   "cell_type": "code",
   "execution_count": null,
   "metadata": {
    "colab": {
     "base_uri": "https://localhost:8080/",
     "height": 542
    },
    "id": "DfuFLhYYagOa",
    "outputId": "e209262d-a4e3-4dd2-c53f-144749a68230"
   },
   "outputs": [],
   "source": [
    "num_val = 200\n",
    "fig = px.line(df_pred[-num_val:], x = df_pred.index[-num_val:], y = \"value\", color=\"label\")\n",
    "fig.add_trace(go.Scatter(x = df_test.index[-num_val:], y = df_test.values[-num_val:], name = \"true values\"))\n",
    "fig.show()"
   ]
  },
  {
   "cell_type": "markdown",
   "metadata": {
    "id": "j9jTPihHCyR2"
   },
   "source": [
    "## Forecasting avec ensemble de test"
   ]
  },
  {
   "cell_type": "code",
   "execution_count": null,
   "metadata": {
    "colab": {
     "base_uri": "https://localhost:8080/",
     "height": 507
    },
    "id": "K_GOQV1uelhV",
    "outputId": "6070389e-12d7-45c9-f6db-83e67f33f514"
   },
   "outputs": [],
   "source": [
    "sc = MinMaxScaler()\n",
    "series_forecasting = sc.fit_transform(train_values.reshape(-1, 1))\n",
    "generator_forecasting = TimeseriesGenerator(series_forecasting, series_forecasting, \n",
    "                                            length=WINDOW_SIZE, batch_size=8)\n",
    "# fit model\n",
    "model = build_model()\n",
    "history = model.fit(generator_forecasting, epochs=5, verbose=1)\n",
    "plt.plot(history.history[\"loss\"])\n",
    "plt.yscale('log')\n",
    "plt.show()"
   ]
  },
  {
   "cell_type": "code",
   "execution_count": null,
   "metadata": {
    "id": "ZGje7wCveskZ"
   },
   "outputs": [],
   "source": [
    "def forecast_lstm(series_forecasting, nb_val):\n",
    "    predictions = list()\n",
    "    series_f = series_forecasting.copy()\n",
    "    for i in range(nb_val):\n",
    "        prediction = model.predict(np.expand_dims(series_f[-WINDOW_SIZE:], axis=0))\n",
    "        yhat = prediction[-1]\n",
    "        #print(sc.inverse_transform([yhat])[0][0])\n",
    "        #Append forecasted value\n",
    "        predictions.append(yhat)\n",
    "        series_f = np.append(series_f, [yhat], axis=0)\n",
    "    \n",
    "    return predictions"
   ]
  },
  {
   "cell_type": "code",
   "execution_count": null,
   "metadata": {
    "colab": {
     "base_uri": "https://localhost:8080/",
     "height": 238
    },
    "id": "7y_heZGFgLD6",
    "outputId": "21c33be1-c12f-4479-9a98-ffcdc75d96cf"
   },
   "outputs": [],
   "source": [
    "# datetimes of train and test dataset\n",
    "datetimes = df_train.index\n",
    "dt_forecast = pd.date_range(start = datetimes[-1]+ datetime.timedelta(days=1), end=datetime.datetime(2021, 5, 8))\n",
    "\n",
    "# Number of value to forecast\n",
    "NB_VAL = len(dt_forecast)\n",
    "\n",
    "# compute predictions\n",
    "predictions_lstm = forecast_lstm(series_forecasting, NB_VAL)\n",
    "\n",
    "# inverse transformation of MinMaxScaler\n",
    "predictions_lstm = sc.inverse_transform(predictions_lstm)\n",
    "\n",
    "# join train df and test predicted df\n",
    "df_forecast_lstm = join_df(df_train.index, df_train.values, dt_forecast, predictions_lstm)\n",
    "df_forecast_lstm.tail(5)"
   ]
  },
  {
   "cell_type": "code",
   "execution_count": null,
   "metadata": {
    "colab": {
     "base_uri": "https://localhost:8080/",
     "height": 542
    },
    "id": "k59P0J-_hGT6",
    "outputId": "315b02d8-dc90-4b6a-d50b-bd252d75baea"
   },
   "outputs": [],
   "source": [
    "fig = px.line(df_forecast_lstm, x=df_forecast_lstm.index, y=\"value\", color=\"label\")\n",
    "fig.show()"
   ]
  },
  {
   "cell_type": "code",
   "execution_count": null,
   "metadata": {
    "colab": {
     "base_uri": "https://localhost:8080/",
     "height": 542
    },
    "id": "bUZvcyFoqZF9",
    "outputId": "ea81f8ae-9594-4c75-f3b1-e551010d6889"
   },
   "outputs": [],
   "source": [
    "date=df_forecast_lstm.index\n",
    "\n",
    "# Create traces\n",
    "fig = px.line(df_forecast_lstm,x=df_forecast_lstm.index, y=df_forecast_lstm.value.values, color='label')\n",
    "fig.add_trace(go.Scatter(x=df_val.index, y=df_val.values,\n",
    "                    mode='lines+markers', name= \"true values\"))\n",
    "\n",
    "fig.show()"
   ]
  },
  {
   "cell_type": "markdown",
   "metadata": {
    "id": "j9jTPihHCyR2"
   },
   "source": [
    "## Forecasting sans ensemble de test"
   ]
  },
  {
   "cell_type": "code",
   "execution_count": null,
   "metadata": {
    "colab": {
     "base_uri": "https://localhost:8080/",
     "height": 507
    },
    "id": "K_GOQV1uelhV",
    "outputId": "6070389e-12d7-45c9-f6db-83e67f33f514"
   },
   "outputs": [],
   "source": [
    "sc = MinMaxScaler()\n",
    "series_forecasting = sc.fit_transform(all_values.reshape(-1, 1))\n",
    "generator_forecasting = TimeseriesGenerator(series_forecasting, series_forecasting, \n",
    "                                            length=WINDOW_SIZE, batch_size=8)\n",
    "# fit model\n",
    "model = build_model()\n",
    "history = model.fit(generator_forecasting, epochs=5, verbose=1)\n",
    "plt.plot(history.history[\"loss\"])\n",
    "plt.yscale('log')\n",
    "plt.show()"
   ]
  },
  {
   "cell_type": "code",
   "execution_count": null,
   "metadata": {
    "colab": {
     "base_uri": "https://localhost:8080/",
     "height": 238
    },
    "id": "7y_heZGFgLD6",
    "outputId": "21c33be1-c12f-4479-9a98-ffcdc75d96cf"
   },
   "outputs": [],
   "source": [
    "# datetimes of train and test dataset\n",
    "datetimes = df_train.index\n",
    "dt_forecast = pd.date_range(start = datetimes[-1]+ datetime.timedelta(days=1), end=datetime.datetime(2021, 5, 8))\n",
    "\n",
    "# Number of value to forecast\n",
    "NB_VAL = len(dt_forecast)\n",
    "\n",
    "# compute predictions\n",
    "predictions_lstm = forecast_lstm(series_forecasting, NB_VAL)\n",
    "\n",
    "# inverse transformation of MinMaxScaler\n",
    "predictions_lstm = sc.inverse_transform(predictions_lstm)\n",
    "\n",
    "# join train df and test predicted df\n",
    "df_forecast_lstm = join_df(btc_data.index, btc_data.values, dt_forecast, predictions_lstm)\n",
    "df_forecast_lstm.tail(5)"
   ]
  },
  {
   "cell_type": "code",
   "execution_count": null,
   "metadata": {
    "colab": {
     "base_uri": "https://localhost:8080/",
     "height": 542
    },
    "id": "k59P0J-_hGT6",
    "outputId": "315b02d8-dc90-4b6a-d50b-bd252d75baea"
   },
   "outputs": [],
   "source": [
    "fig = px.line(df_forecast_lstm, x=df_forecast_lstm.index, y=\"value\", color=\"label\")\n",
    "fig.show()"
   ]
  },
  {
   "cell_type": "code",
   "execution_count": null,
   "metadata": {
    "colab": {
     "base_uri": "https://localhost:8080/",
     "height": 542
    },
    "id": "bUZvcyFoqZF9",
    "outputId": "ea81f8ae-9594-4c75-f3b1-e551010d6889"
   },
   "outputs": [],
   "source": [
    "date=df_forecast_lstm.index\n",
    "\n",
    "# Create traces\n",
    "fig = px.line(df_forecast_lstm,x=df_forecast_lstm.index, y=df_forecast_lstm.value.values, color='label')\n",
    "\n",
    "fig.show()"
   ]
  },
  {
   "cell_type": "markdown",
   "metadata": {
    "id": "-mthQHzKzNPQ"
   },
   "source": [
    "## Prophet"
   ]
  },
  {
   "cell_type": "code",
   "execution_count": null,
   "metadata": {
    "colab": {
     "base_uri": "https://localhost:8080/",
     "height": 206
    },
    "id": "R_0cQYLHzgI4",
    "outputId": "d0023e9c-9ad5-46bb-e381-dd623f69c42c"
   },
   "outputs": [],
   "source": [
    "### Prophet\n",
    "from fbprophet import Prophet\n",
    "\n",
    "columns = [\"ds\", \"y\"]\n",
    "df_prophet = pd.DataFrame(columns = columns)\n",
    "df_prophet[\"ds\"] = btc_data.index\n",
    "df_prophet[\"y\"] = btc_data.values\n",
    "\n",
    "sc = MinMaxScaler()\n",
    "df_prophet[\"y\"] = sc.fit_transform(np.reshape(df_prophet.y.values, (-1, 1)))\n",
    "df_prophet.head()"
   ]
  },
  {
   "cell_type": "code",
   "execution_count": null,
   "metadata": {
    "colab": {
     "base_uri": "https://localhost:8080/"
    },
    "id": "V27hYgYg0hym",
    "outputId": "911c870f-3aa3-453f-d285-31ef7f020ff8"
   },
   "outputs": [],
   "source": [
    "m = Prophet()\n",
    "m.fit(df_prophet)"
   ]
  },
  {
   "cell_type": "code",
   "execution_count": null,
   "metadata": {
    "colab": {
     "base_uri": "https://localhost:8080/",
     "height": 206
    },
    "id": "EkATI-u4z6_v",
    "outputId": "3a4271a7-54cc-41d6-cd65-d01b39d08d32"
   },
   "outputs": [],
   "source": [
    "# Python\n",
    "future = m.make_future_dataframe(freq='s', periods=NB_VAL, include_history=True)\n",
    "future.tail()"
   ]
  },
  {
   "cell_type": "code",
   "execution_count": null,
   "metadata": {
    "colab": {
     "base_uri": "https://localhost:8080/",
     "height": 313
    },
    "id": "HdBnZoIkbDSO",
    "outputId": "84379f11-637c-418d-e670-7ee9b2792817"
   },
   "outputs": [],
   "source": [
    "# Python\n",
    "forecast_prophet = m.predict(future)\n",
    "forecast_prophet.tail()"
   ]
  },
  {
   "cell_type": "code",
   "execution_count": null,
   "metadata": {
    "colab": {
     "base_uri": "https://localhost:8080/",
     "height": 441
    },
    "id": "OgmQrNQNzzBC",
    "outputId": "2f899a9b-ef66-4e6d-f66f-9e3a1dde7a5c"
   },
   "outputs": [],
   "source": [
    "fig1 = m.plot(forecast_prophet)"
   ]
  },
  {
   "cell_type": "code",
   "execution_count": null,
   "metadata": {},
   "outputs": [],
   "source": []
  }
 ],
 "metadata": {
  "accelerator": "GPU",
  "colab": {
   "authorship_tag": "ABX9TyMV/iET0xnIcCSe+89Tw+X4",
   "collapsed_sections": [],
   "include_colab_link": true,
   "name": "Bitcoin.ipynb",
   "provenance": [],
   "toc_visible": true
  },
  "kernelspec": {
   "display_name": "Python 3",
   "language": "python",
   "name": "python3"
  },
  "language_info": {
   "codemirror_mode": {
    "name": "ipython",
    "version": 3
   },
   "file_extension": ".py",
   "mimetype": "text/x-python",
   "name": "python",
   "nbconvert_exporter": "python",
   "pygments_lexer": "ipython3",
   "version": "3.8.3"
  },
  "toc-autonumbering": true
 },
 "nbformat": 4,
 "nbformat_minor": 4
}
